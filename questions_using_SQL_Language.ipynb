{
 "cells": [
  {
   "cell_type": "code",
   "execution_count": null,
   "metadata": {},
   "outputs": [],
   "source": [
    "import sqlite3"
   ]
  },
  {
   "cell_type": "code",
   "execution_count": null,
   "metadata": {},
   "outputs": [],
   "source": [
    "#01) Write a sql query to get books that has rate >=3 and has 'Mr' in its name.\n",
    "connection = sqlite3.connect('BooksDB.db')\n",
    "\n",
    "sql = \"SELECT * FROM books WHERE rating >= 3 and name LIKE '%Mr%'\"\n",
    "data = connection.execute(sql).fetchall()\n",
    "\n",
    "connection.close()"
   ]
  },
  {
   "cell_type": "code",
   "execution_count": null,
   "metadata": {},
   "outputs": [],
   "source": [
    "#02) Write a sql query to get books that has rate >=3 or price > 20.\n",
    "connection = sqlite3.connect('BooksDB.db')\n",
    "\n",
    "sql = \"SELECT * FROM Books WHERE rating >= 3 and price > 20\"\n",
    "data = connection.execute(sql).fetchall()\n",
    "\n",
    "connection.close()"
   ]
  },
  {
   "cell_type": "code",
   "execution_count": null,
   "metadata": {},
   "outputs": [],
   "source": [
    "#04) Write a sql query to get books that has price between 10 and 40 and has rate 3 or 4 or 1.\n",
    "connection = sqlite3.connect('BooksDB.db')\n",
    "\n",
    "sql = \"SELECT * FROM books WHERE not rating = 3\"\n",
    "data = connection.execute(sql).fetchall()\n",
    "\n",
    "connection.close()"
   ]
  },
  {
   "cell_type": "code",
   "execution_count": null,
   "metadata": {},
   "outputs": [],
   "source": [
    "#05) Write a sql query to get the top 5 most expensive books (order books desc with price column and then limit the result to the first 5).\n",
    "connection = sqlite3.connect('BooksDB.db')\n",
    "\n",
    "sql = \"SELECT * FROM Books ORDER BY price desc limit 5\"\n",
    "data = connection.execute(sql).fetchall()\n",
    "\n",
    "connection.close()"
   ]
  },
  {
   "cell_type": "code",
   "execution_count": null,
   "metadata": {},
   "outputs": [],
   "source": [
    "#06) Write a sql query to get the 3rd 10 books in the books table order first by rate desc and then by price asc.\n",
    "\n",
    "connection = sqlite3.connect('BooksDB.db')\n",
    "\n",
    "sql = \"SELECT * FROM Books ORDER BY rating desc limit 20\"\n",
    "data = connection.execute(sql).fetchall()\n",
    "\n",
    "connection.close()"
   ]
  },
  {
   "cell_type": "code",
   "execution_count": null,
   "metadata": {},
   "outputs": [],
   "source": [
    "#07) Write a sql query to add a new category in categories table and add 5 books to this category in books table with title, rate and price.\n",
    "connection = sqlite3.connect('BooksDB.db')\n",
    "\n",
    "sql = \"INSERT INTO categories(id,category) VALUES (49, 'Action');\"\n",
    "data = connection.execute(sql).fetchall()\n",
    "sql = \"INSERT INTO books VALUES ('Book1', 'Action','20.0','3');\"\n",
    "data = connection.execute(sql).fetchall()\n",
    "sql = \"INSERT INTO books VALUES ('Book2', 'Action','20.0','3');\"\n",
    "data = connection.execute(sql).fetchall()\n",
    "sql = \"INSERT INTO books VALUES ('Book3', 'Action','20.0','3');\"\n",
    "data = connection.execute(sql).fetchall()\n",
    "sql = \"INSERT INTO books VALUES ('Book4', 'Action','20.0','3');\"\n",
    "data = connection.execute(sql).fetchall()\n",
    "sql = \"INSERT INTO books VALUES ('Book5', 'Action','20.0','3');\"\n",
    "data = connection.execute(sql).fetchall()\n",
    "\n",
    "connection.close()"
   ]
  },
  {
   "cell_type": "code",
   "execution_count": null,
   "metadata": {},
   "outputs": [],
   "source": [
    "#08) Write a sql query to update book's rate to 3 that thier price < 20£.\n",
    "connection = sqlite3.connect('BooksDB.db')\n",
    "\n",
    "sql = \"UPDATE books SET rating = 3 WHERE price < 20\"\n",
    "data = connection.execute(sql).fetchall()\n",
    "\n",
    "connection.close()"
   ]
  },
  {
   "cell_type": "code",
   "execution_count": null,
   "metadata": {},
   "outputs": [],
   "source": [
    "#09) Write a sql query to delete all books that have price > 50£ and has rate <= 2.\n",
    "connection = sqlite3.connect('BooksDB.db')\n",
    "\n",
    "sql = \"DELETE FROM books WHERE price > 50 AND rating <=2;\"\n",
    "data = connection.execute(sql).fetchall()\n",
    "\n",
    "connection.close()"
   ]
  },
  {
   "cell_type": "code",
   "execution_count": null,
   "metadata": {},
   "outputs": [],
   "source": [
    "#10) Write a sql query to count the number of books that have 'Secret' in thier names and price between 10£ and 25£.\n",
    "connection = sqlite3.connect('BooksDB.db')\n",
    "\n",
    "sql = \"SELECT count(price) FROM books WHERE name LIKE '%Secret%' AND price BETWEEN 10 AND 25\"\n",
    "data = connection.execute(sql).fetchall()\n",
    "\n",
    "connection.close()"
   ]
  },
  {
   "cell_type": "code",
   "execution_count": null,
   "metadata": {},
   "outputs": [],
   "source": [
    "#11) Write a sql query to get the minimum & maximum price for all the books that have rate 5.\n",
    "connection = sqlite3.connect('BooksDB.db')\n",
    "\n",
    "sql = \"SELECT MIN(price),Max(price) FROM books WHERE rating = 5\"\n",
    "data = connection.execute(sql).fetchall()\n",
    "\n",
    "connection.close()"
   ]
  },
  {
   "cell_type": "code",
   "execution_count": null,
   "metadata": {},
   "outputs": [],
   "source": [
    "#12) Write a sql query to calculate the avg price for all the books that have rate 5.\n",
    "connection = sqlite3.connect('BooksDB.db')\n",
    "\n",
    "sql = \"SELECT AVG(price) FROM books  WHERE rating = 5\"\n",
    "data = connection.execute(sql).fetchall()\n",
    "\n",
    "connection.close()"
   ]
  },
  {
   "cell_type": "code",
   "execution_count": null,
   "metadata": {},
   "outputs": [],
   "source": [
    "#13) Write a sql query to sum all book's price that have rate 2 and price between 10 and 40\n",
    "connection = sqlite3.connect('BooksDB.db')\n",
    "\n",
    "sql = \"SELECT sum(price) FROM books WHERE rating = 2 AND price BETWEEN 10 AND 40\"\n",
    "data = connection.execute(sql).fetchall()\n",
    "\n",
    "connection.close()"
   ]
  },
  {
   "cell_type": "code",
   "execution_count": null,
   "metadata": {},
   "outputs": [],
   "source": [
    "#14) Write a sql query to join both books & categories table into one new table containing book_name & category_name & book_rate and book_price.\n",
    "connection = sqlite3.connect('BooksDB.db')\n",
    "\n",
    "sql = \"SELECT b.name,c.category,b.rating,b.price FROM books b JOIN categories c ON c.category = b.category\"\n",
    "data = connection.execute(sql).fetchall()\n",
    "\n",
    "connection.close()"
   ]
  },
  {
   "cell_type": "code",
   "execution_count": null,
   "metadata": {},
   "outputs": [],
   "source": [
    "#15) Write a sql query to calculate how many books each rate has and have price between 20£ and 30£.\n",
    "connection = sqlite3.connect('BooksDB.db')\n",
    "\n",
    "sql = \"SELECT rating,count(rating),price FROM books GROUP BY rating HAVING price BETWEEN 20 AND 30\"\n",
    "data = connection.execute(sql).fetchall()\n",
    "\n",
    "connection.close()"
   ]
  },
  {
   "cell_type": "code",
   "execution_count": null,
   "metadata": {},
   "outputs": [],
   "source": [
    "#16) Write a sql query to calculate how many books each category has having count > 10.\n",
    "connection = sqlite3.connect('BooksDB.db')\n",
    "\n",
    "sql = \"SELECT category,count(category) as num_of_books FROM books GROUP BY category HAVING num_of_books > 10\"\n",
    "data = connection.execute(sql).fetchall()\n",
    "\n",
    "connection.close()"
   ]
  }
 ],
 "metadata": {
  "kernelspec": {
   "display_name": "Python 3",
   "language": "python",
   "name": "python3"
  },
  "language_info": {
   "codemirror_mode": {
    "name": "ipython",
    "version": 3
   },
   "file_extension": ".py",
   "mimetype": "text/x-python",
   "name": "python",
   "nbconvert_exporter": "python",
   "pygments_lexer": "ipython3",
   "version": "3.7.6"
  }
 },
 "nbformat": 4,
 "nbformat_minor": 4
}
